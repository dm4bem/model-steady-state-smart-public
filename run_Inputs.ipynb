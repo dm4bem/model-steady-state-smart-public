{
 "cells": [
  {
   "cell_type": "code",
   "execution_count": null,
   "id": "f259ccdc-6bdc-4940-873a-c504fe40da4d",
   "metadata": {},
   "outputs": [],
   "source": [
    "%run Inputs.py"
   ]
  },
  {
   "cell_type": "code",
   "execution_count": null,
   "id": "9ea4c9f9-7b0a-46a4-976a-c0ee3a53fd3a",
   "metadata": {},
   "outputs": [],
   "source": []
  }
 ],
 "metadata": {
  "kernelspec": {
   "display_name": "Python 3 (ipykernel)",
   "language": "python",
   "name": "python3"
  },
  "language_info": {
   "codemirror_mode": {
    "name": "ipython",
    "version": 3
   },
   "file_extension": ".py",
   "mimetype": "text/x-python",
   "name": "python",
   "nbconvert_exporter": "python",
   "pygments_lexer": "ipython3",
   "version": "3.11.7"
  }
 },
 "nbformat": 4,
 "nbformat_minor": 5
}
